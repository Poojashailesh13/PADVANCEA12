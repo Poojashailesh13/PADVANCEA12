{
 "cells": [
  {
   "cell_type": "raw",
   "id": "e5261e87",
   "metadata": {},
   "source": [
    "Q1. Does assigning a value to a strings indexed character violate Pythons string immutability?\n",
    "ans- yes"
   ]
  },
  {
   "cell_type": "raw",
   "id": "398a00a9",
   "metadata": {},
   "source": [
    "Q2. Does using the += operator to concatenate strings violate Pythons string immutability? Why or\n",
    "why not?\n",
    "ans- Yes, but with += on immutable objects, the old and new values are supposed to have overlapping lifetime. The new value is supposed to be created before the assignment happens, and the old value's lifetime only ends once the new value is assigned to the variable."
   ]
  },
  {
   "cell_type": "raw",
   "id": "8d093df3",
   "metadata": {},
   "source": [
    "Q3. In Python, how many different ways are there to index a character?\n",
    "ans-1.Use the find() Function to Find the Position of a Character in a String.\n",
    "2.Use the rfind() Function to Find the Position of a Character in a String.\n",
    "3.Use the index() Function to Find the Position of a Character in a String.\n",
    "4.Use the for Loop to Find the Position of a Character in a String."
   ]
  },
  {
   "cell_type": "raw",
   "id": "16bb88ed",
   "metadata": {},
   "source": [
    "Q4. What is the relationship between indexing and slicing?\n",
    "ans- “Indexing” means referring to an element of an iterable by its position within the iterable. “Slicing” means getting a subset of elements from an iterable based on their indices."
   ]
  },
  {
   "cell_type": "raw",
   "id": "b51c844e",
   "metadata": {},
   "source": [
    "Q5. What is an indexed character&#39;s exact data type? What is the data form of a slicing-generated\n",
    "substring?\n",
    "ans- Individual characters in a string can be accessed by specifying the string name followed by a number in square brackets ( [] ). String indexing in Python is zero-based: the first character in the string has index 0 , the next has index 1 , and so on. a slice object that is used to slice any sequence (string, tuple, list, range, or bytes)."
   ]
  },
  {
   "cell_type": "raw",
   "id": "e125027b",
   "metadata": {},
   "source": [
    "Q6. What is the relationship between string and character  in Python?\n",
    "ans- In Python, Strings are arrays of bytes representing Unicode characters. However, Python does not have a character data type, a single character is simply a string with a length of  Square brackets can be used to access elements of the string."
   ]
  },
  {
   "cell_type": "raw",
   "id": "06d78e3a",
   "metadata": {},
   "source": [
    "Q7. Identify at least two operators and one method that allow you to combine one or more smaller\n",
    "strings to create a larger string.\n",
    "ans- addition operator(+ operator)."
   ]
  },
  {
   "cell_type": "raw",
   "id": "c9e8e793",
   "metadata": {},
   "source": [
    "Q8. What is the benefit of first checking the target string with in or not in before using the index\n",
    "method to find a substring?\n",
    "ANS- see we are checking first length of string , because , if we want to find first 4th index , and the string having length 3 then it throw error , so to overcome this we first find length of all different , string and then it perform operation."
   ]
  },
  {
   "cell_type": "raw",
   "id": "8628ac97",
   "metadata": {},
   "source": [
    "Q9. Which operators and built-in string methods produce simple Boolean (true/false) results?\n",
    "ans- Except for and and or , they are rarely needed in practice. Because of this, True , False , not , and , and or are the only built-in Python Boolean operators."
   ]
  }
 ],
 "metadata": {
  "kernelspec": {
   "display_name": "Python 3 (ipykernel)",
   "language": "python",
   "name": "python3"
  },
  "language_info": {
   "codemirror_mode": {
    "name": "ipython",
    "version": 3
   },
   "file_extension": ".py",
   "mimetype": "text/x-python",
   "name": "python",
   "nbconvert_exporter": "python",
   "pygments_lexer": "ipython3",
   "version": "3.9.7"
  }
 },
 "nbformat": 4,
 "nbformat_minor": 5
}
